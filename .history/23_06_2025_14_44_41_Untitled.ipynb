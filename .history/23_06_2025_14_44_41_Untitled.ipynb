{
 "cells": [
  {
   "cell_type": "code",
   "execution_count": null,
   "id": "e9146bf1-e4c3-4083-bbc6-b7ba6ab7e296",
   "metadata": {},
   "outputs": [],
   "source": [
    "https://github.com/dathwal/DSCI100-Project.git"
   ]
  },
  {
   "cell_type": "markdown",
   "id": "4e64aefe-0e0f-4ce4-87de-176cb68b7f36",
   "metadata": {},
   "source": [
    "First, we load in the necessary libraries."
   ]
  },
  {
   "cell_type": "code",
   "execution_count": null,
   "id": "c3158804-9c3e-4fb0-a772-280546b19ed6",
   "metadata": {},
   "outputs": [],
   "source": [
    "library(tidyverse)\n",
    "library(repr)\n",
    "library(tidymodels)\n",
    "options(repr.matrix.max.rows = 6)\n",
    "source(\"cleanup.R\")"
   ]
  },
  {
   "cell_type": "code",
   "execution_count": null,
   "id": "c35c62f6-85d7-4db6-a8ac-73cce676412b",
   "metadata": {},
   "outputs": [],
   "source": [
    "The two datasets (players.csv and sessions.csv) are then loaded in using the read_csv function. To help with \n",
    "visualizing the column names, the glimpse function is used. "
   ]
  },
  {
   "cell_type": "code",
   "execution_count": null,
   "id": "1ee2836e-a035-4447-8279-6a2b0efc31dc",
   "metadata": {},
   "outputs": [],
   "source": [
    "players<- read_csv(\"players.csv\")\n",
    "\n",
    "glimpse(players)\n"
   ]
  },
  {
   "cell_type": "code",
   "execution_count": null,
   "id": "dd5bf614-542b-4137-9d92-f5e2a3314250",
   "metadata": {},
   "outputs": [],
   "source": [
    "# loaded Data Set\n",
    "sessions <- read_csv(\"sessions.csv\")\n",
    "glimpse(sessions)\n"
   ]
  },
  {
   "cell_type": "markdown",
   "id": "dc0d2593-1804-4f9c-9149-ff681604d7eb",
   "metadata": {},
   "source": [
    "The question that I wish to answer is exploratory, so the method that we will use is clustering. We wish to find clusters of data that will hopefully show if there is a particular age group that contributes the most played hours so that we are able to target this age group with advertising. First, tidy the data. "
   ]
  },
  {
   "cell_type": "code",
   "execution_count": null,
   "id": "6b0d44fa-8f9e-4103-83ee-89d135b60fb6",
   "metadata": {},
   "outputs": [],
   "source": [
    "players_cleaned <- players |>\n",
    "select(played_hours, Age)\n",
    "players_cleaned"
   ]
  },
  {
   "cell_type": "markdown",
   "id": "27015394-6067-4b62-9f39-749f1f7a4705",
   "metadata": {},
   "source": [
    "The players_cleaned set can now be used to create a bar plot so we can see if there is any correlation between the two variables. A bar plot is used since we have one factored variable and one quantitative one. "
   ]
  },
  {
   "cell_type": "code",
   "execution_count": null,
   "id": "d75c72e3-510b-4639-b922-15c971822119",
   "metadata": {},
   "outputs": [],
   "source": []
  },
  {
   "cell_type": "code",
   "execution_count": null,
   "id": "e28420e7-68e0-42b6-8ff9-2162e34f347c",
   "metadata": {},
   "outputs": [],
   "source": [
    "players_plot <- players_cleaned|>\n",
    "ggplot(aes(x=Age, y=played_hours))+\n",
    "geom_point(stat=\"identity\")\n",
    "\n",
    "players_plot"
   ]
  },
  {
   "cell_type": "code",
   "execution_count": null,
   "id": "79e15aa6-630b-4bd0-8233-091e7e0e29bc",
   "metadata": {},
   "outputs": [],
   "source": [
    "knn_model <- nearest_neighbor(weight=\"rectangular\", neighbors = "
   ]
  },
  {
   "cell_type": "code",
   "execution_count": null,
   "id": "1ae5cf66-2ebb-46cf-aef3-6ae79c89adee",
   "metadata": {},
   "outputs": [],
   "source": []
  }
 ],
 "metadata": {
  "kernelspec": {
   "display_name": "R",
   "language": "R",
   "name": "ir"
  },
  "language_info": {
   "codemirror_mode": "r",
   "file_extension": ".r",
   "mimetype": "text/x-r-source",
   "name": "R",
   "pygments_lexer": "r",
   "version": "4.3.3"
  }
 },
 "nbformat": 4,
 "nbformat_minor": 5
}
