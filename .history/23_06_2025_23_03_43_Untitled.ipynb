{
 "cells": [
  {
   "cell_type": "code",
   "execution_count": null,
   "id": "e9146bf1-e4c3-4083-bbc6-b7ba6ab7e296",
   "metadata": {},
   "outputs": [],
   "source": [
    "https://github.com/dathwal/DSCI100-Project.git"
   ]
  },
  {
   "cell_type": "markdown",
   "id": "4e64aefe-0e0f-4ce4-87de-176cb68b7f36",
   "metadata": {},
   "source": [
    "First, we load in the necessary libraries."
   ]
  },
  {
   "cell_type": "code",
   "execution_count": null,
   "id": "c3158804-9c3e-4fb0-a772-280546b19ed6",
   "metadata": {},
   "outputs": [],
   "source": [
    "library(tidyverse)\n",
    "library(repr)\n",
    "library(tidymodels)\n",
    "library(themis)\n",
    "\n",
    "\n",
    "options(repr.matrix.max.rows = 6)\n"
   ]
  },
  {
   "cell_type": "markdown",
   "id": "ea273be3-e04e-424b-bdba-25a088e43866",
   "metadata": {},
   "source": [
    "The two datasets (players.csv and sessions.csv) are then loaded in using the read_csv function. To help with \n",
    "visualizing the column names, the glimpse function is used. "
   ]
  },
  {
   "cell_type": "code",
   "execution_count": null,
   "id": "1ee2836e-a035-4447-8279-6a2b0efc31dc",
   "metadata": {},
   "outputs": [],
   "source": [
    "players<- read_csv(\"players.csv\")\n",
    "\n",
    "glimpse(players)\n"
   ]
  },
  {
   "cell_type": "code",
   "execution_count": null,
   "id": "dd5bf614-542b-4137-9d92-f5e2a3314250",
   "metadata": {},
   "outputs": [],
   "source": [
    "# loaded Data Set\n",
    "sessions <- read_csv(\"sessions.csv\")\n",
    "glimpse(sessions)\n"
   ]
  },
  {
   "cell_type": "markdown",
   "id": "dc0d2593-1804-4f9c-9149-ff681604d7eb",
   "metadata": {},
   "source": [
    "The question that I wish to answer is predictive, so the method that we will use is classification. We wish to find clusters of data that will hopefully show if there is a particular age group that contributes the most played hours so that we are able to target this age group with advertising. First, tidy the data. "
   ]
  },
  {
   "cell_type": "code",
   "execution_count": null,
   "id": "6b0d44fa-8f9e-4103-83ee-89d135b60fb6",
   "metadata": {},
   "outputs": [],
   "source": [
    "players_cleaned <- players |>\n",
    "select(played_hours, experience)|>\n",
    "mutate(experience = as_factor(experience))\n",
    "players_cleaned"
   ]
  },
  {
   "cell_type": "markdown",
   "id": "27015394-6067-4b62-9f39-749f1f7a4705",
   "metadata": {},
   "source": [
    "This cleaned data can now be used to create a plot to observe any relationships between the two variables."
   ]
  },
  {
   "cell_type": "code",
   "execution_count": null,
   "id": "e28420e7-68e0-42b6-8ff9-2162e34f347c",
   "metadata": {},
   "outputs": [],
   "source": [
    "players_plot <- players_cleaned|>\n",
    "ggplot(aes(x=played_hours, y=experience))+\n",
    "geom_point() +\n",
    "ggtitle(\"Played Hours vs Time\")+\n",
    "xlab(\"Played Hours\")\n",
    "\n",
    "players_plot"
   ]
  },
  {
   "cell_type": "markdown",
   "id": "3b9daf6a-91a4-4a7c-af5f-4a2c8dcf7f4e",
   "metadata": {},
   "source": [
    "The dataset can now be split into training and testing sets."
   ]
  },
  {
   "cell_type": "code",
   "execution_count": null,
   "id": "55305e12-2b4a-4c57-829c-37cd3df13d36",
   "metadata": {},
   "outputs": [],
   "source": [
    "set.seed(1543)\n",
    "players_split <- initial_split(players_cleaned, prop=0.7,strata=experience)\n",
    "players_training <- training(players_split)\n",
    "players_training\n",
    "players_testing <- testing(players_split)"
   ]
  },
  {
   "cell_type": "markdown",
   "id": "250018d4-10b9-4e7c-968a-76679c93b182",
   "metadata": {},
   "source": [
    "A recipe is then created based on the training set."
   ]
  },
  {
   "cell_type": "code",
   "execution_count": null,
   "id": "79e15aa6-630b-4bd0-8233-091e7e0e29bc",
   "metadata": {},
   "outputs": [],
   "source": [
    "k_recipe <- recipe(experience ~ played_hours, data = players_training)|>\n",
    "step_scale(all_numeric())|>\n",
    "step_center(all_numeric())|>\n",
    "step_upsample(experience, over_ratio=1)"
   ]
  },
  {
   "cell_type": "markdown",
   "id": "7341fa77-3cf8-4e18-a229-9181ebacb0af",
   "metadata": {},
   "source": [
    "A KNN classification model and is then tuned and fitted."
   ]
  },
  {
   "cell_type": "code",
   "execution_count": null,
   "id": "5faa72e7-d50b-4fb4-b345-d2a93c6f6efa",
   "metadata": {},
   "outputs": [],
   "source": [
    "k_spec <- nearest_neighbor(weight= \"rectangular\", neighbors=9)|>\n",
    "set_engine(\"kknn\")|>\n",
    "set_mode(\"classification\")"
   ]
  },
  {
   "cell_type": "markdown",
   "id": "763a93d1-0248-4ad6-a8f7-6682de35cda9",
   "metadata": {},
   "source": [
    "The model and recipe are then fitted with the training data using a workflow."
   ]
  },
  {
   "cell_type": "code",
   "execution_count": null,
   "id": "d1dc6a3c-1b2b-4b37-abd2-42a1e7e68b86",
   "metadata": {},
   "outputs": [],
   "source": [
    "\n",
    "k_fit <- workflow()|>\n",
    "add_recipe(k_recipe)|>\n",
    "add_model(k_spec)|>\n",
    "fit(data = players_training)\n",
    "\n",
    "k_fit"
   ]
  },
  {
   "cell_type": "markdown",
   "id": "bd2a12dd-b453-4fc4-9490-addddf09fc84",
   "metadata": {
    "jupyter": {
     "source_hidden": true
    }
   },
   "source": [
    "The fitted model is then evaluated by predicting the classes in the testing set. "
   ]
  },
  {
   "cell_type": "code",
   "execution_count": null,
   "id": "5c41443f-08e3-46bf-8ca2-d3e3ec96fa21",
   "metadata": {},
   "outputs": [],
   "source": [
    "k_predict <- k_fit|>\n",
    "predict(players_testing)|>\n",
    "bind_cols(players_testing)|>\n",
    "metrics(truth=experience, estimate = .pred_class)|>\n",
    "filter(.metric== \"accuracy\")\n",
    "k_predict"
   ]
  },
  {
   "cell_type": "code",
   "execution_count": null,
   "id": "ae954362-0178-48d7-8aea-b5d7cf44bf8f",
   "metadata": {},
   "outputs": [],
   "source": [
    "players_graph <- players_training |>\n",
    "ggplot(aes(y=experience, x=played_hours,colour=experience))+\n",
    "geom_point()\n",
    "\n",
    "players_graph"
   ]
  },
  {
   "cell_type": "markdown",
   "id": "532878de-a9d2-428a-8541-a4ee11d6cd3c",
   "metadata": {},
   "source": [
    "Individual Report\n",
    "A research group at UBC collected data about players of a MineCraft server and aimed to use this infoamtion collected to learn more aboimprove advertising and \n",
    "The question that this project was centered around was to see if player experience influenced the amount of hours played in order to see if we can target advertising of this Minecraft server to a specific group of people. "
   ]
  },
  {
   "cell_type": "code",
   "execution_count": null,
   "id": "9df832e5-c426-43d3-ae02-1f591c8e135f",
   "metadata": {},
   "outputs": [],
   "source": []
  },
  {
   "cell_type": "code",
   "execution_count": null,
   "id": "8bbffd1d-6229-4ca7-aded-596f4dc64489",
   "metadata": {},
   "outputs": [],
   "source": []
  }
 ],
 "metadata": {
  "kernelspec": {
   "display_name": "R",
   "language": "R",
   "name": "ir"
  },
  "language_info": {
   "codemirror_mode": "r",
   "file_extension": ".r",
   "mimetype": "text/x-r-source",
   "name": "R",
   "pygments_lexer": "r",
   "version": "4.3.3"
  }
 },
 "nbformat": 4,
 "nbformat_minor": 5
}
